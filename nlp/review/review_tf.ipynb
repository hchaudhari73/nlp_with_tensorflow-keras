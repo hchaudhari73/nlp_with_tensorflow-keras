{
 "cells": [
  {
   "cell_type": "code",
   "execution_count": 1,
   "metadata": {},
   "outputs": [],
   "source": [
    "import numpy as np\n",
    "import pandas as pd\n",
    "import matplotlib.pyplot as plt\n",
    "\n",
    "import tensorflow as tf\n",
    "keras = tf.keras\n",
    "from tensorflow.keras.preprocessing.text import Tokenizer\n",
    "from tensorflow.keras.preprocessing.sequence import pad_sequences"
   ]
  },
  {
   "cell_type": "code",
   "execution_count": 2,
   "metadata": {},
   "outputs": [],
   "source": [
    "def plots(model):\n",
    "    plt.plot(model.history.history[\"loss\"], label=\"loss\")\n",
    "    plt.plot(model.history.history[\"val_loss\"], label=\"validation loss\")\n",
    "    plt.title(\"Loss\")\n",
    "    plt.legend()\n",
    "    plt.show()\n",
    "    \n",
    "    plt.plot(model.history.history[\"accuracy\"], label=\"accuracy\")\n",
    "    plt.plot(model.history.history[\"val_accuracy\"], label=\"validation accuracy\")\n",
    "    plt.title(\"Accuracy\")\n",
    "    plt.legend()\n",
    "    plt.show()\n"
   ]
  },
  {
   "cell_type": "code",
   "execution_count": 3,
   "metadata": {},
   "outputs": [],
   "source": [
    "def predict_review(model, reviews):\n",
    "  # Create the sequences\n",
    "  padding_type='post'\n",
    "  sample_sequences = tokenizer.texts_to_sequences(reviews)\n",
    "  reviews_padded = pad_sequences(sample_sequences, padding=padding_type, \n",
    "                                 maxlen=max_length) \n",
    "  classes = model.predict(reviews_padded)\n",
    "  for x in range(len(reviews_padded)):\n",
    "    print(reviews[x])\n",
    "    print(classes[x])\n",
    "    print('\\n')\n"
   ]
  },
  {
   "cell_type": "code",
   "execution_count": 4,
   "metadata": {},
   "outputs": [
    {
     "data": {
      "text/html": [
       "<div>\n",
       "<style scoped>\n",
       "    .dataframe tbody tr th:only-of-type {\n",
       "        vertical-align: middle;\n",
       "    }\n",
       "\n",
       "    .dataframe tbody tr th {\n",
       "        vertical-align: top;\n",
       "    }\n",
       "\n",
       "    .dataframe thead th {\n",
       "        text-align: right;\n",
       "    }\n",
       "</style>\n",
       "<table border=\"1\" class=\"dataframe\">\n",
       "  <thead>\n",
       "    <tr style=\"text-align: right;\">\n",
       "      <th></th>\n",
       "      <th>Unnamed: 0</th>\n",
       "      <th>text</th>\n",
       "      <th>sentiment</th>\n",
       "    </tr>\n",
       "  </thead>\n",
       "  <tbody>\n",
       "    <tr>\n",
       "      <th>0</th>\n",
       "      <td>0</td>\n",
       "      <td>So there is no way for me to plug it in here i...</td>\n",
       "      <td>0</td>\n",
       "    </tr>\n",
       "    <tr>\n",
       "      <th>1</th>\n",
       "      <td>1</td>\n",
       "      <td>Good case Excellent value.</td>\n",
       "      <td>1</td>\n",
       "    </tr>\n",
       "    <tr>\n",
       "      <th>2</th>\n",
       "      <td>2</td>\n",
       "      <td>Great for the jawbone.</td>\n",
       "      <td>1</td>\n",
       "    </tr>\n",
       "    <tr>\n",
       "      <th>3</th>\n",
       "      <td>3</td>\n",
       "      <td>Tied to charger for conversations lasting more...</td>\n",
       "      <td>0</td>\n",
       "    </tr>\n",
       "    <tr>\n",
       "      <th>4</th>\n",
       "      <td>4</td>\n",
       "      <td>The mic is great.</td>\n",
       "      <td>1</td>\n",
       "    </tr>\n",
       "  </tbody>\n",
       "</table>\n",
       "</div>"
      ],
      "text/plain": [
       "   Unnamed: 0                                               text  sentiment\n",
       "0           0  So there is no way for me to plug it in here i...          0\n",
       "1           1                         Good case Excellent value.          1\n",
       "2           2                             Great for the jawbone.          1\n",
       "3           3  Tied to charger for conversations lasting more...          0\n",
       "4           4                                  The mic is great.          1"
      ]
     },
     "execution_count": 4,
     "metadata": {},
     "output_type": "execute_result"
    }
   ],
   "source": [
    "df = pd.read_csv(\"combined_data.csv\")\n",
    "df.head()"
   ]
  },
  {
   "cell_type": "code",
   "execution_count": 5,
   "metadata": {},
   "outputs": [],
   "source": [
    "X = np.array(df.text)\n",
    "y = np.array(df.sentiment)\n",
    "\n",
    "train_size = int(len(df.text)*0.8)\n",
    "\n",
    "X_train = X[:train_size]\n",
    "X_test = X[train_size:]\n",
    "\n",
    "y_train = y[:train_size]\n",
    "y_test = y[train_size:]"
   ]
  },
  {
   "cell_type": "code",
   "execution_count": 6,
   "metadata": {},
   "outputs": [],
   "source": [
    "vocab_size = 500\n",
    "oov_tok = \"<OOV>\"\n",
    "max_length = 100\n",
    "padding = \"post\"\n",
    "truc = \"post\"\n",
    "embedding = 16"
   ]
  },
  {
   "cell_type": "code",
   "execution_count": 7,
   "metadata": {},
   "outputs": [],
   "source": [
    "tokenizer = Tokenizer(num_words=vocab_size, oov_token=oov_tok)"
   ]
  },
  {
   "cell_type": "code",
   "execution_count": 8,
   "metadata": {},
   "outputs": [],
   "source": [
    "tokenizer.fit_on_texts(X_train)\n",
    "X_sequence = tokenizer.texts_to_sequences(X_train)\n",
    "X_pad = pad_sequences(X_sequence, maxlen=100, padding=padding, truncating=truc)"
   ]
  },
  {
   "cell_type": "code",
   "execution_count": 9,
   "metadata": {},
   "outputs": [],
   "source": [
    "X_test_sequence = tokenizer.texts_to_sequences(X_test)\n",
    "X_test_pad = pad_sequences(sequences=X_test_sequence, maxlen=max_length, padding=padding, truncating=truc)"
   ]
  },
  {
   "cell_type": "code",
   "execution_count": 10,
   "metadata": {},
   "outputs": [
    {
     "name": "stdout",
     "output_type": "stream",
     "text": [
      "(1593, 100) (399, 100) (1593,) (399,)\n"
     ]
    }
   ],
   "source": [
    "print(X_pad.shape, X_test_pad.shape, y_train.shape, y_test.shape)"
   ]
  },
  {
   "cell_type": "code",
   "execution_count": 11,
   "metadata": {
    "scrolled": true
   },
   "outputs": [
    {
     "name": "stdout",
     "output_type": "stream",
     "text": [
      "Epoch 1/10\n",
      "50/50 [==============================] - 0s 7ms/step - loss: 0.6924 - accuracy: 0.5204 - val_loss: 0.7005 - val_accuracy: 0.4110\n",
      "Epoch 2/10\n",
      "50/50 [==============================] - 0s 3ms/step - loss: 0.6885 - accuracy: 0.5229 - val_loss: 0.6946 - val_accuracy: 0.4110\n",
      "Epoch 3/10\n",
      "50/50 [==============================] - 0s 4ms/step - loss: 0.6794 - accuracy: 0.5424 - val_loss: 0.6971 - val_accuracy: 0.4261\n",
      "Epoch 4/10\n",
      "50/50 [==============================] - 0s 3ms/step - loss: 0.6596 - accuracy: 0.5951 - val_loss: 0.6835 - val_accuracy: 0.4862\n",
      "Epoch 5/10\n",
      "50/50 [==============================] - 0s 3ms/step - loss: 0.6265 - accuracy: 0.6497 - val_loss: 0.6816 - val_accuracy: 0.4687\n",
      "Epoch 6/10\n",
      "50/50 [==============================] - 0s 3ms/step - loss: 0.5815 - accuracy: 0.7213 - val_loss: 0.6520 - val_accuracy: 0.5915\n",
      "Epoch 7/10\n",
      "50/50 [==============================] - 0s 3ms/step - loss: 0.5346 - accuracy: 0.7815 - val_loss: 0.6130 - val_accuracy: 0.6767\n",
      "Epoch 8/10\n",
      "50/50 [==============================] - 0s 3ms/step - loss: 0.4142 - accuracy: 0.8895 - val_loss: 0.5298 - val_accuracy: 0.7368\n",
      "Epoch 9/10\n",
      "50/50 [==============================] - 0s 4ms/step - loss: 0.3062 - accuracy: 0.9102 - val_loss: 0.5829 - val_accuracy: 0.6792\n",
      "Epoch 10/10\n",
      "50/50 [==============================] - 0s 3ms/step - loss: 0.2517 - accuracy: 0.9222 - val_loss: 0.4968 - val_accuracy: 0.7393\n"
     ]
    },
    {
     "data": {
      "text/plain": [
       "<tensorflow.python.keras.callbacks.History at 0x7f977c1e1a50>"
      ]
     },
     "execution_count": 11,
     "metadata": {},
     "output_type": "execute_result"
    }
   ],
   "source": [
    "# model\n",
    "model = tf.keras.Sequential([\n",
    "    tf.keras.layers.Embedding(vocab_size, embedding, input_shape=[max_length]),\n",
    "    tf.keras.layers.Flatten(),\n",
    "    tf.keras.layers.Dense(6, activation='relu'),\n",
    "    tf.keras.layers.Dense(1, activation='sigmoid')\n",
    "])\n",
    "model.compile(loss='binary_crossentropy',optimizer='adam',metrics=['accuracy'])\n",
    "model.fit(X_pad, y_train, epochs=10, validation_data = (X_test_pad, y_test))"
   ]
  },
  {
   "cell_type": "code",
   "execution_count": 12,
   "metadata": {},
   "outputs": [
    {
     "data": {
      "text/plain": [
       "dict_keys(['loss', 'accuracy', 'val_loss', 'val_accuracy'])"
      ]
     },
     "execution_count": 12,
     "metadata": {},
     "output_type": "execute_result"
    }
   ],
   "source": [
    "model.history.history.keys()"
   ]
  },
  {
   "cell_type": "code",
   "execution_count": 13,
   "metadata": {},
   "outputs": [
    {
     "data": {
      "image/png": "[encoded data removed]",
      "text/plain": [
       "<Figure size 432x288 with 1 Axes>"
      ]
     },
     "metadata": {
      "needs_background": "light"
     },
     "output_type": "display_data"
    },
    {
     "data": {
      "image/png": "[encoded data removed]",
      "text/plain": [
       "<Figure size 432x288 with 1 Axes>"
      ]
     },
     "metadata": {
      "needs_background": "light"
     },
     "output_type": "display_data"
    }
   ],
   "source": [
    "plots(model)"
   ]
  },
  {
   "cell_type": "code",
   "execution_count": 14,
   "metadata": {},
   "outputs": [],
   "source": [
    "predict = model.predict(X_test_pad)"
   ]
  },
  {
   "cell_type": "code",
   "execution_count": 15,
   "metadata": {},
   "outputs": [
    {
     "name": "stdout",
     "output_type": "stream",
     "text": [
      "This is good\n",
      "[0.95691437]\n",
      "\n",
      "\n",
      "This is bad\n",
      "[0.28147054]\n",
      "\n",
      "\n",
      "Dogs are funny\n",
      "[0.59768134]\n",
      "\n",
      "\n",
      "pizza is not healty\n",
      "[0.18763287]\n",
      "\n",
      "\n",
      "I don't eat ice-cream\n",
      "[0.17358361]\n",
      "\n",
      "\n"
     ]
    }
   ],
   "source": [
    "reviews = [\"This is good\", \"This is bad\", \"Dogs are funny\", \"pizza is not healty\", \"I don't eat ice-cream\"]\n",
    "predict_review(model,reviews)"
   ]
  },
  {
   "cell_type": "code",
   "execution_count": 16,
   "metadata": {},
   "outputs": [],
   "source": [
    "weights = model.layers[0].get_weights()[0]"
   ]
  },
  {
   "cell_type": "code",
   "execution_count": 17,
   "metadata": {},
   "outputs": [
    {
     "data": {
      "text/plain": [
       "array([[-0.05202378, -0.02312239, -0.02941554, ..., -0.01329068,\n",
       "        -0.06370749, -0.04575642],\n",
       "       [-0.00567139,  0.10639822,  0.05889763, ..., -0.03280127,\n",
       "        -0.0282979 ,  0.09166368],\n",
       "       [-0.03857871, -0.03901929, -0.00461248, ...,  0.08454724,\n",
       "         0.01100603,  0.09816919],\n",
       "       ...,\n",
       "       [ 0.06298105,  0.0861014 , -0.06636418, ...,  0.03039843,\n",
       "        -0.11592068,  0.16592702],\n",
       "       [-0.06312305, -0.03111392,  0.1415811 , ..., -0.04650754,\n",
       "        -0.00197572,  0.00573095],\n",
       "       [ 0.21303809,  0.08326166,  0.20138372, ...,  0.20273213,\n",
       "        -0.06519759, -0.17048527]], dtype=float32)"
      ]
     },
     "execution_count": 17,
     "metadata": {},
     "output_type": "execute_result"
    }
   ],
   "source": [
    "weights"
   ]
  },
  {
   "cell_type": "code",
   "execution_count": 18,
   "metadata": {
    "scrolled": true
   },
   "outputs": [],
   "source": [
    "word_index = tokenizer.word_index"
   ]
  },
  {
   "cell_type": "code",
   "execution_count": 19,
   "metadata": {},
   "outputs": [],
   "source": [
    "reverse_word_list = {j:i for (i,j) in word_index.items()}"
   ]
  },
  {
   "cell_type": "code",
   "execution_count": 20,
   "metadata": {},
   "outputs": [
    {
     "data": {
      "text/plain": [
       "(500, 16)"
      ]
     },
     "execution_count": 20,
     "metadata": {},
     "output_type": "execute_result"
    }
   ],
   "source": [
    "weights.shape"
   ]
  },
  {
   "cell_type": "code",
   "execution_count": 21,
   "metadata": {},
   "outputs": [],
   "source": [
    "out_v = open(\"vect.tsv\", \"w\", encoding=\"utf-8\")\n",
    "out_m = open(\"meta.tsv\", \"w\", encoding=\"utf-8\")\n",
    "\n",
    "for i in range(1,len(weights)):\n",
    "    word = reverse_word_list[i]\n",
    "    embedding = weights[i]\n",
    "    out_m.write(word + \"\\n\")\n",
    "    out_v.write(\"\\t\".join([str(x) for x in embedding])+\"\\n\")\n",
    "out_m.close()\n",
    "out_v.close()"
   ]
  },
  {
   "cell_type": "markdown",
   "metadata": {},
   "source": [
    "## Using different parameters and Global layer instead of flatten"
   ]
  },
  {
   "cell_type": "code",
   "execution_count": 22,
   "metadata": {},
   "outputs": [],
   "source": [
    "vocab_size = 500\n",
    "oov_tok = \"<OOV>\"\n",
    "max_length = 50\n",
    "padding = \"post\"\n",
    "truc = \"post\"\n",
    "embedding = 16"
   ]
  },
  {
   "cell_type": "code",
   "execution_count": 23,
   "metadata": {},
   "outputs": [],
   "source": [
    "tokenizer_2 = Tokenizer(num_words=vocab_size)\n",
    "\n",
    "tokenizer_2.fit_on_texts(X_train)\n",
    "X_train_sequence = tokenizer_2.texts_to_sequences(X_train)\n",
    "X_train_pad = pad_sequences(X_train_sequence, maxlen=max_length, padding=padding, truncating=truc)\n",
    "\n",
    "X_test_sequence = tokenizer_2.texts_to_sequences(X_test)\n",
    "X_test_pad = pad_sequences(X_test_sequence, maxlen=max_length, padding=padding, truncating=truc)"
   ]
  },
  {
   "cell_type": "code",
   "execution_count": 24,
   "metadata": {},
   "outputs": [
    {
     "name": "stdout",
     "output_type": "stream",
     "text": [
      "Epoch 1/10\n",
      "50/50 [==============================] - 0s 4ms/step - loss: 0.6920 - accuracy: 0.5223 - val_loss: 0.6994 - val_accuracy: 0.4110\n",
      "Epoch 2/10\n",
      "50/50 [==============================] - 0s 4ms/step - loss: 0.6893 - accuracy: 0.5229 - val_loss: 0.6987 - val_accuracy: 0.4110\n",
      "Epoch 3/10\n",
      "50/50 [==============================] - 0s 3ms/step - loss: 0.6865 - accuracy: 0.5242 - val_loss: 0.6965 - val_accuracy: 0.4160\n",
      "Epoch 4/10\n",
      "50/50 [==============================] - 0s 3ms/step - loss: 0.6822 - accuracy: 0.5392 - val_loss: 0.6922 - val_accuracy: 0.4336\n",
      "Epoch 5/10\n",
      "50/50 [==============================] - 0s 3ms/step - loss: 0.6762 - accuracy: 0.5618 - val_loss: 0.6899 - val_accuracy: 0.4536\n",
      "Epoch 6/10\n",
      "50/50 [==============================] - 0s 3ms/step - loss: 0.6671 - accuracy: 0.6208 - val_loss: 0.6806 - val_accuracy: 0.5388\n",
      "Epoch 7/10\n",
      "50/50 [==============================] - 0s 3ms/step - loss: 0.6547 - accuracy: 0.7006 - val_loss: 0.6775 - val_accuracy: 0.5263\n",
      "Epoch 8/10\n",
      "50/50 [==============================] - 0s 4ms/step - loss: 0.6387 - accuracy: 0.7106 - val_loss: 0.6618 - val_accuracy: 0.6015\n",
      "Epoch 9/10\n",
      "50/50 [==============================] - 0s 4ms/step - loss: 0.6186 - accuracy: 0.7451 - val_loss: 0.6398 - val_accuracy: 0.6792\n",
      "Epoch 10/10\n",
      "50/50 [==============================] - 0s 3ms/step - loss: 0.5942 - accuracy: 0.7935 - val_loss: 0.6333 - val_accuracy: 0.6591\n"
     ]
    },
    {
     "data": {
      "text/plain": [
       "<tensorflow.python.keras.callbacks.History at 0x7f972c1139d0>"
      ]
     },
     "execution_count": 24,
     "metadata": {},
     "output_type": "execute_result"
    }
   ],
   "source": [
    "#model\n",
    "\n",
    "keras.backend.clear_session()\n",
    "model_2 = keras.Sequential([\n",
    "    keras.layers.Embedding(vocab_size, embedding, input_shape=[max_length]),\n",
    "    keras.layers.GlobalAvgPool1D(),\n",
    "    keras.layers.Dense(6, activation=\"relu\", kernel_initializer=\"he_uniform\"),\n",
    "    keras.layers.Dense(1, activation=\"sigmoid\")\n",
    "])\n",
    "\n",
    "model_2.compile(optimizer=\"adam\", loss=keras.losses.binary_crossentropy, metrics=[\"accuracy\"])\n",
    "\n",
    "model_2.fit(X_train_pad, y_train, epochs=10, validation_data=(X_test_pad, y_test))"
   ]
  },
  {
   "cell_type": "code",
   "execution_count": 25,
   "metadata": {},
   "outputs": [
    {
     "data": {
      "image/png": "[encoded data removed]",
      "text/plain": [
       "<Figure size 432x288 with 1 Axes>"
      ]
     },
     "metadata": {
      "needs_background": "light"
     },
     "output_type": "display_data"
    },
    {
     "data": {
      "image/png": "[encoded data removed]",
      "text/plain": [
       "<Figure size 432x288 with 1 Axes>"
      ]
     },
     "metadata": {
      "needs_background": "light"
     },
     "output_type": "display_data"
    }
   ],
   "source": [
    "plots(model_2)"
   ]
  },
  {
   "cell_type": "code",
   "execution_count": 26,
   "metadata": {},
   "outputs": [],
   "source": [
    "word_index_2 = tokenizer_2.word_index\n",
    "reverse_word_list_2 = {j:i for i, j in word_index_2.items()}\n",
    "\n",
    "weights_2 = model.layers[0].get_weights()[0]\n",
    "\n",
    "out_v = open(\"vect_2.tsv\", \"w\")\n",
    "out_m = open(\"meta_2.tsv\", \"w\")\n",
    "for i in range(1,vocab_size):\n",
    "    word = reverse_word_list_2[i]\n",
    "    embedding = weights_2[i]\n",
    "    out_m.write(word+\"\\n\")\n",
    "    out_v.write(\"\\t\".join([str(i) for i in embedding])+\"\\n\")\n",
    "out_m.close()\n",
    "out_v.close()"
   ]
  },
  {
   "cell_type": "code",
   "execution_count": 27,
   "metadata": {},
   "outputs": [
    {
     "name": "stdout",
     "output_type": "stream",
     "text": [
      "This is good\n",
      "[0.51446646]\n",
      "\n",
      "\n",
      "This is bad\n",
      "[0.497252]\n",
      "\n",
      "\n",
      "Dogs are funny\n",
      "[0.5496435]\n",
      "\n",
      "\n",
      "pizza is not healty\n",
      "[0.52342355]\n",
      "\n",
      "\n",
      "I don't eat ice-cream\n",
      "[0.5528013]\n",
      "\n",
      "\n"
     ]
    }
   ],
   "source": [
    "reviews = [\"This is good\", \"This is bad\", \"Dogs are funny\", \"pizza is not healty\", \"I don't eat ice-cream\"]\n",
    "predict_review(model_2,reviews)"
   ]
  }
 ],
 "metadata": {
  "kernelspec": {
   "display_name": "Python 3",
   "language": "python",
   "name": "python3"
  },
  "language_info": {
   "codemirror_mode": {
    "name": "ipython",
    "version": 3
   },
   "file_extension": ".py",
   "mimetype": "text/x-python",
   "name": "python",
   "nbconvert_exporter": "python",
   "pygments_lexer": "ipython3",
   "version": "3.7.7"
  }
 },
 "nbformat": 4,
 "nbformat_minor": 4
}
