{
 "cells": [
  {
   "cell_type": "code",
   "execution_count": 1,
   "metadata": {},
   "outputs": [],
   "source": [
    "import numpy as np\n",
    "import pandas as pd\n",
    "import matplotlib.pyplot as plt\n",
    "\n",
    "import tensorflow as tf\n",
    "keras = tf.keras\n",
    "from tensorflow.keras.preprocessing.text import Tokenizer\n",
    "from tensorflow.keras.preprocessing.sequence import pad_sequences"
   ]
  },
  {
   "cell_type": "code",
   "execution_count": 2,
   "metadata": {},
   "outputs": [],
   "source": [
    "def plots(model):\n",
    "    plt.plot(model.history.history[\"loss\"], label=\"loss\")\n",
    "    plt.plot(model.history.history[\"val_loss\"], label=\"validation loss\")\n",
    "    plt.title(\"Loss\")\n",
    "    plt.legend()\n",
    "    plt.show()\n",
    "    \n",
    "    plt.plot(model.history.history[\"accuracy\"], label=\"accuracy\")\n",
    "    plt.plot(model.history.history[\"val_accuracy\"], label=\"validation accuracy\")\n",
    "    plt.title(\"Accuracy\")\n",
    "    plt.legend()\n",
    "    plt.show()\n"
   ]
  },
  {
   "cell_type": "code",
   "execution_count": 3,
   "metadata": {},
   "outputs": [],
   "source": [
    "def predict_review(model, reviews):\n",
    "  # Create the sequences\n",
    "  padding_type='post'\n",
    "  sample_sequences = tokenizer.texts_to_sequences(reviews)\n",
    "  reviews_padded = pad_sequences(sample_sequences, padding=padding_type, \n",
    "                                 maxlen=max_length) \n",
    "  classes = model.predict(reviews_padded)\n",
    "  for x in range(len(reviews_padded)):\n",
    "    print(reviews[x])\n",
    "    print(classes[x])\n",
    "    print('\\n')\n"
   ]
  },
  {
   "cell_type": "code",
   "execution_count": 4,
   "metadata": {},
   "outputs": [
    {
     "data": {
      "text/html": [
       "<div>\n",
       "<style scoped>\n",
       "    .dataframe tbody tr th:only-of-type {\n",
       "        vertical-align: middle;\n",
       "    }\n",
       "\n",
       "    .dataframe tbody tr th {\n",
       "        vertical-align: top;\n",
       "    }\n",
       "\n",
       "    .dataframe thead th {\n",
       "        text-align: right;\n",
       "    }\n",
       "</style>\n",
       "<table border=\"1\" class=\"dataframe\">\n",
       "  <thead>\n",
       "    <tr style=\"text-align: right;\">\n",
       "      <th></th>\n",
       "      <th>Unnamed: 0</th>\n",
       "      <th>text</th>\n",
       "      <th>sentiment</th>\n",
       "    </tr>\n",
       "  </thead>\n",
       "  <tbody>\n",
       "    <tr>\n",
       "      <th>0</th>\n",
       "      <td>0</td>\n",
       "      <td>So there is no way for me to plug it in here i...</td>\n",
       "      <td>0</td>\n",
       "    </tr>\n",
       "    <tr>\n",
       "      <th>1</th>\n",
       "      <td>1</td>\n",
       "      <td>Good case Excellent value.</td>\n",
       "      <td>1</td>\n",
       "    </tr>\n",
       "    <tr>\n",
       "      <th>2</th>\n",
       "      <td>2</td>\n",
       "      <td>Great for the jawbone.</td>\n",
       "      <td>1</td>\n",
       "    </tr>\n",
       "    <tr>\n",
       "      <th>3</th>\n",
       "      <td>3</td>\n",
       "      <td>Tied to charger for conversations lasting more...</td>\n",
       "      <td>0</td>\n",
       "    </tr>\n",
       "    <tr>\n",
       "      <th>4</th>\n",
       "      <td>4</td>\n",
       "      <td>The mic is great.</td>\n",
       "      <td>1</td>\n",
       "    </tr>\n",
       "  </tbody>\n",
       "</table>\n",
       "</div>"
      ],
      "text/plain": [
       "   Unnamed: 0                                               text  sentiment\n",
       "0           0  So there is no way for me to plug it in here i...          0\n",
       "1           1                         Good case Excellent value.          1\n",
       "2           2                             Great for the jawbone.          1\n",
       "3           3  Tied to charger for conversations lasting more...          0\n",
       "4           4                                  The mic is great.          1"
      ]
     },
     "execution_count": 4,
     "metadata": {},
     "output_type": "execute_result"
    }
   ],
   "source": [
    "df = pd.read_csv(\"combined_data.csv\")\n",
    "df.head()"
   ]
  },
  {
   "cell_type": "code",
   "execution_count": 5,
   "metadata": {},
   "outputs": [],
   "source": [
    "X = np.array(df.text)\n",
    "y = np.array(df.sentiment)\n",
    "\n",
    "train_size = int(len(df.text)*0.8)\n",
    "\n",
    "X_train = X[:train_size]\n",
    "X_test = X[train_size:]\n",
    "\n",
    "y_train = y[:train_size]\n",
    "y_test = y[train_size:]"
   ]
  },
  {
   "cell_type": "code",
   "execution_count": 6,
   "metadata": {},
   "outputs": [],
   "source": [
    "vocab_size = 500\n",
    "oov_tok = \"<OOV>\"\n",
    "max_length = 100\n",
    "padding = \"post\"\n",
    "truc = \"post\"\n",
    "embedding = 16"
   ]
  },
  {
   "cell_type": "code",
   "execution_count": 7,
   "metadata": {},
   "outputs": [],
   "source": [
    "tokenizer = Tokenizer(num_words=vocab_size, oov_token=oov_tok)"
   ]
  },
  {
   "cell_type": "code",
   "execution_count": 8,
   "metadata": {},
   "outputs": [],
   "source": [
    "tokenizer.fit_on_texts(X_train)\n",
    "X_sequence = tokenizer.texts_to_sequences(X_train)\n",
    "X_pad = pad_sequences(X_sequence, maxlen=100, padding=padding, truncating=truc)"
   ]
  },
  {
   "cell_type": "code",
   "execution_count": 9,
   "metadata": {},
   "outputs": [],
   "source": [
    "X_test_sequence = tokenizer.texts_to_sequences(X_test)\n",
    "X_test_pad = pad_sequences(sequences=X_test_sequence, maxlen=max_length, padding=padding, truncating=truc)"
   ]
  },
  {
   "cell_type": "code",
   "execution_count": 10,
   "metadata": {},
   "outputs": [
    {
     "name": "stdout",
     "output_type": "stream",
     "text": [
      "(1593, 100) (399, 100) (1593,) (399,)\n"
     ]
    }
   ],
   "source": [
    "print(X_pad.shape, X_test_pad.shape, y_train.shape, y_test.shape)"
   ]
  },
  {
   "cell_type": "code",
   "execution_count": 11,
   "metadata": {
    "scrolled": true
   },
   "outputs": [
    {
     "name": "stdout",
     "output_type": "stream",
     "text": [
      "Epoch 1/10\n",
      "50/50 [==============================] - 0s 6ms/step - loss: 0.6930 - accuracy: 0.5242 - val_loss: 0.6945 - val_accuracy: 0.4110\n",
      "Epoch 2/10\n",
      "50/50 [==============================] - 0s 3ms/step - loss: 0.6916 - accuracy: 0.5229 - val_loss: 0.7037 - val_accuracy: 0.4110\n",
      "Epoch 3/10\n",
      "50/50 [==============================] - 0s 3ms/step - loss: 0.6786 - accuracy: 0.5813 - val_loss: 0.6930 - val_accuracy: 0.4461\n",
      "Epoch 4/10\n",
      "50/50 [==============================] - 0s 3ms/step - loss: 0.6298 - accuracy: 0.7320 - val_loss: 0.6319 - val_accuracy: 0.6817\n",
      "Epoch 5/10\n",
      "50/50 [==============================] - 0s 3ms/step - loss: 0.5336 - accuracy: 0.8123 - val_loss: 0.5775 - val_accuracy: 0.7143\n",
      "Epoch 6/10\n",
      "50/50 [==============================] - 0s 3ms/step - loss: 0.4279 - accuracy: 0.8556 - val_loss: 0.5113 - val_accuracy: 0.7594\n",
      "Epoch 7/10\n",
      "50/50 [==============================] - 0s 3ms/step - loss: 0.3533 - accuracy: 0.8719 - val_loss: 0.4897 - val_accuracy: 0.7694\n",
      "Epoch 8/10\n",
      "50/50 [==============================] - 0s 3ms/step - loss: 0.2961 - accuracy: 0.9033 - val_loss: 0.4925 - val_accuracy: 0.7494\n",
      "Epoch 9/10\n",
      "50/50 [==============================] - 0s 3ms/step - loss: 0.2535 - accuracy: 0.9146 - val_loss: 0.4852 - val_accuracy: 0.7719\n",
      "Epoch 10/10\n",
      "50/50 [==============================] - 0s 3ms/step - loss: 0.2193 - accuracy: 0.9303 - val_loss: 0.5079 - val_accuracy: 0.7343\n"
     ]
    },
    {
     "data": {
      "text/plain": [
       "<tensorflow.python.keras.callbacks.History at 0x7f2c9c1a1810>"
      ]
     },
     "execution_count": 11,
     "metadata": {},
     "output_type": "execute_result"
    }
   ],
   "source": [
    "# model\n",
    "model = tf.keras.Sequential([\n",
    "    tf.keras.layers.Embedding(vocab_size, embedding, input_shape=[max_length]),\n",
    "    tf.keras.layers.Flatten(),\n",
    "    tf.keras.layers.Dense(6, activation='relu'),\n",
    "    tf.keras.layers.Dense(1, activation='sigmoid')\n",
    "])\n",
    "model.compile(loss='binary_crossentropy',optimizer='adam',metrics=['accuracy'])\n",
    "model.fit(X_pad, y_train, epochs=10, validation_data = (X_test_pad, y_test))"
   ]
  },
  {
   "cell_type": "code",
   "execution_count": 12,
   "metadata": {},
   "outputs": [
    {
     "data": {
      "text/plain": [
       "dict_keys(['loss', 'accuracy', 'val_loss', 'val_accuracy'])"
      ]
     },
     "execution_count": 12,
     "metadata": {},
     "output_type": "execute_result"
    }
   ],
   "source": [
    "model.history.history.keys()"
   ]
  },
  {
   "cell_type": "code",
   "execution_count": 13,
   "metadata": {},
   "outputs": [
    {
     "data": {
      "image/png": "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\n",
      "text/plain": [
       "<Figure size 432x288 with 1 Axes>"
      ]
     },
     "metadata": {
      "needs_background": "light"
     },
     "output_type": "display_data"
    },
    {
     "data": {
      "image/png": "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\n",
      "text/plain": [
       "<Figure size 432x288 with 1 Axes>"
      ]
     },
     "metadata": {
      "needs_background": "light"
     },
     "output_type": "display_data"
    }
   ],
   "source": [
    "plots(model)"
   ]
  },
  {
   "cell_type": "code",
   "execution_count": 14,
   "metadata": {},
   "outputs": [],
   "source": [
    "predict = model.predict(X_test_pad)"
   ]
  },
  {
   "cell_type": "code",
   "execution_count": 15,
   "metadata": {},
   "outputs": [
    {
     "name": "stdout",
     "output_type": "stream",
     "text": [
      "This is good\n",
      "[0.9468717]\n",
      "\n",
      "\n",
      "This is bad\n",
      "[0.13917239]\n",
      "\n",
      "\n",
      "Dogs are funny\n",
      "[0.6667489]\n",
      "\n",
      "\n",
      "pizza is not healty\n",
      "[0.15799372]\n",
      "\n",
      "\n",
      "I don't eat ice-cream\n",
      "[0.08277916]\n",
      "\n",
      "\n"
     ]
    }
   ],
   "source": [
    "reviews = [\"This is good\", \"This is bad\", \"Dogs are funny\", \"pizza is not healty\", \"I don't eat ice-cream\"]\n",
    "predict_review(model,reviews)"
   ]
  },
  {
   "cell_type": "code",
   "execution_count": 16,
   "metadata": {},
   "outputs": [],
   "source": [
    "weights = model.layers[0].get_weights()[0]"
   ]
  },
  {
   "cell_type": "code",
   "execution_count": 17,
   "metadata": {},
   "outputs": [
    {
     "data": {
      "text/plain": [
       "array([[-0.04161889,  0.03642332,  0.05026978, ...,  0.0124912 ,\n",
       "         0.04159001, -0.04835599],\n",
       "       [-0.06447747, -0.10985073,  0.01882213, ...,  0.0419758 ,\n",
       "         0.08540338, -0.00700649],\n",
       "       [-0.11332086, -0.01666687,  0.09222246, ..., -0.01543861,\n",
       "         0.02749086,  0.03270308],\n",
       "       ...,\n",
       "       [-0.13310637, -0.07693923,  0.10415707, ...,  0.02449892,\n",
       "         0.14086138,  0.10033715],\n",
       "       [ 0.09034304,  0.01622015,  0.08861488, ..., -0.06358195,\n",
       "         0.01325577,  0.06856602],\n",
       "       [ 0.0345711 , -0.09526294, -0.0197282 , ...,  0.04559426,\n",
       "        -0.01505585, -0.12930147]], dtype=float32)"
      ]
     },
     "execution_count": 17,
     "metadata": {},
     "output_type": "execute_result"
    }
   ],
   "source": [
    "weights"
   ]
  },
     "execution_count": 18,
     "metadata": {},
     "output_type": "execute_result"
    }
   ],
   "source": [
    "word_index = tokenizer.word_index\n",
    "word_index"
   ]
  },
  {
   "cell_type": "code",
   "execution_count": 19,
   "metadata": {},
   "outputs": [],
   "source": [
    "reverse_word_list = {j:i for (i,j) in word_index.items()}"
   ]
  },
  {
   "cell_type": "code",
   "execution_count": 20,
   "metadata": {},
   "outputs": [
    {
     "data": {
      "text/plain": [
       "(500, 16)"
      ]
     },
     "execution_count": 20,
     "metadata": {},
     "output_type": "execute_result"
    }
   ],
   "source": [
    "weights.shape"
   ]
  },
  {
   "cell_type": "code",
   "execution_count": 21,
   "metadata": {},
   "outputs": [],
   "source": [
    "out_v = open(\"vect.tsv\", \"w\", encoding=\"utf-8\")\n",
    "out_m = open(\"meta.tsv\", \"w\", encoding=\"utf-8\")\n",
    "\n",
    "for i in range(1,len(weights)):\n",
    "    word = reverse_word_list[i]\n",
    "    embedding = weights[i]\n",
    "    out_m.write(word + \"\\n\")\n",
    "    out_v.write(\"\\t\".join([str(x) for x in embedding])+\"\\n\")\n",
    "out_m.close()\n",
    "out_v.close()"
   ]
  },
  {
   "cell_type": "markdown",
   "metadata": {},
   "source": [
    "## Using different parameters and Global layer instead of flatten"
   ]
  },
  {
   "cell_type": "code",
   "execution_count": 22,
   "metadata": {},
   "outputs": [],
   "source": [
    "vocab_size = 500\n",
    "oov_tok = \"<OOV>\"\n",
    "max_length = 50\n",
    "padding = \"post\"\n",
    "truc = \"post\"\n",
    "embedding = 16"
   ]
  },
  {
   "cell_type": "code",
   "execution_count": 23,
   "metadata": {},
   "outputs": [],
   "source": [
    "tokenizer_2 = Tokenizer(num_words=vocab_size)\n",
    "\n",
    "tokenizer_2.fit_on_texts(X_train)\n",
    "X_train_sequence = tokenizer_2.texts_to_sequences(X_train)\n",
    "X_train_pad = pad_sequences(X_train_sequence, maxlen=max_length, padding=padding, truncating=truc)\n",
    "\n",
    "X_test_sequence = tokenizer_2.texts_to_sequences(X_test)\n",
    "X_test_pad = pad_sequences(X_test_sequence, maxlen=max_length, padding=padding, truncating=truc)"
   ]
  },
  {
   "cell_type": "code",
   "execution_count": 24,
   "metadata": {},
   "outputs": [
    {
     "name": "stdout",
     "output_type": "stream",
     "text": [
      "Epoch 1/10\n",
      "50/50 [==============================] - 0s 4ms/step - loss: 0.6927 - accuracy: 0.5116 - val_loss: 0.6958 - val_accuracy: 0.4110\n",
      "Epoch 2/10\n",
      "50/50 [==============================] - 0s 3ms/step - loss: 0.6913 - accuracy: 0.5223 - val_loss: 0.6971 - val_accuracy: 0.4110\n",
      "Epoch 3/10\n",
      "50/50 [==============================] - 0s 3ms/step - loss: 0.6899 - accuracy: 0.5242 - val_loss: 0.6957 - val_accuracy: 0.4110\n",
      "Epoch 4/10\n",
      "50/50 [==============================] - 0s 3ms/step - loss: 0.6874 - accuracy: 0.5223 - val_loss: 0.6949 - val_accuracy: 0.4185\n",
      "Epoch 5/10\n",
      "50/50 [==============================] - 0s 3ms/step - loss: 0.6840 - accuracy: 0.5348 - val_loss: 0.6910 - val_accuracy: 0.4461\n",
      "Epoch 6/10\n",
      "50/50 [==============================] - 0s 3ms/step - loss: 0.6779 - accuracy: 0.5844 - val_loss: 0.6837 - val_accuracy: 0.5689\n",
      "Epoch 7/10\n",
      "50/50 [==============================] - 0s 3ms/step - loss: 0.6685 - accuracy: 0.7213 - val_loss: 0.6786 - val_accuracy: 0.5664\n",
      "Epoch 8/10\n",
      "50/50 [==============================] - 0s 3ms/step - loss: 0.6534 - accuracy: 0.7533 - val_loss: 0.6642 - val_accuracy: 0.6366\n",
      "Epoch 9/10\n",
      "50/50 [==============================] - 0s 3ms/step - loss: 0.6325 - accuracy: 0.7790 - val_loss: 0.6476 - val_accuracy: 0.6767\n",
      "Epoch 10/10\n",
      "50/50 [==============================] - 0s 3ms/step - loss: 0.6071 - accuracy: 0.8016 - val_loss: 0.6265 - val_accuracy: 0.7243\n"
     ]
    },
    {
     "data": {
      "text/plain": [
       "<tensorflow.python.keras.callbacks.History at 0x7f2c5c1112d0>"
      ]
     },
     "execution_count": 24,
     "metadata": {},
     "output_type": "execute_result"
    }
   ],
   "source": [
    "#model\n",
    "\n",
    "keras.backend.clear_session()\n",
    "model_2 = keras.Sequential([\n",
    "    keras.layers.Embedding(vocab_size, embedding, input_shape=[max_length]),\n",
    "    keras.layers.GlobalAvgPool1D(),\n",
    "    keras.layers.Dense(6, activation=\"relu\", kernel_initializer=\"he_uniform\"),\n",
    "    keras.layers.Dense(1, activation=\"sigmoid\")\n",
    "])\n",
    "\n",
    "model_2.compile(optimizer=\"adam\", loss=keras.losses.binary_crossentropy, metrics=[\"accuracy\"])\n",
    "\n",
    "model_2.fit(X_train_pad, y_train, epochs=10, validation_data=(X_test_pad, y_test))"
   ]
  },
  {
   "cell_type": "code",
   "execution_count": 25,
   "metadata": {},
   "outputs": [
    {
     "data": {
      "image/png": "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\n",
      "text/plain": [
       "<Figure size 432x288 with 1 Axes>"
      ]
     },
     "metadata": {
      "needs_background": "light"
     },
     "output_type": "display_data"
    },
    {
     "data": {
      "image/png": "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\n",
      "text/plain": [
       "<Figure size 432x288 with 1 Axes>"
      ]
     },
     "metadata": {
      "needs_background": "light"
     },
     "output_type": "display_data"
    }
   ],
   "source": [
    "plots(model_2)"
   ]
  },
  {
   "cell_type": "code",
   "execution_count": 26,
   "metadata": {},
   "outputs": [],
   "source": [
    "word_index_2 = tokenizer_2.word_index\n",
    "reverse_word_list_2 = {j:i for i, j in word_index_2.items()}\n",
    "\n",
    "weights_2 = model.layers[0].get_weights()[0]\n",
    "\n",
    "out_v = open(\"vect_2.tsv\", \"w\")\n",
    "out_m = open(\"meta_2.tsv\", \"w\")\n",
    "for i in range(1,vocab_size):\n",
    "    word = reverse_word_list_2[i]\n",
    "    embedding = weights_2[i]\n",
    "    out_m.write(word+\"\\n\")\n",
    "    out_v.write(\"\\t\".join([str(i) for i in embedding])+\"\\n\")\n",
    "out_m.close()\n",
    "out_v.close()"
   ]
  },
  {
   "cell_type": "code",
   "execution_count": 27,
   "metadata": {},
   "outputs": [
    {
     "name": "stdout",
     "output_type": "stream",
     "text": [
      "This is good\n",
      "[0.48786724]\n",
      "\n",
      "\n",
      "This is bad\n",
      "[0.47198334]\n",
      "\n",
      "\n",
      "Dogs are funny\n",
      "[0.5159828]\n",
      "\n",
      "\n",
      "pizza is not healty\n",
      "[0.49224344]\n",
      "\n",
      "\n",
      "I don't eat ice-cream\n",
      "[0.5185228]\n",
      "\n",
      "\n"
     ]
    }
   ],
   "source": [
    "reviews = [\"This is good\", \"This is bad\", \"Dogs are funny\", \"pizza is not healty\", \"I don't eat ice-cream\"]\n",
    "predict_review(model_2,reviews)"
   ]
  }
 ],
 "metadata": {
  "kernelspec": {
   "display_name": "Python 3",
   "language": "python",
   "name": "python3"
  },
  "language_info": {
   "codemirror_mode": {
    "name": "ipython",
    "version": 3
   },
   "file_extension": ".py",
   "mimetype": "text/x-python",
   "name": "python",
   "nbconvert_exporter": "python",
   "pygments_lexer": "ipython3",
   "version": "3.7.7"
  }
 },
 "nbformat": 4,
 "nbformat_minor": 4
}
