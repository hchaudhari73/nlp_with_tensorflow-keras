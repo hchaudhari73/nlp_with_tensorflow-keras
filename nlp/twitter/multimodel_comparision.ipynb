{
 "cells": [
  {
   "cell_type": "code",
   "execution_count": 1,
   "metadata": {},
   "outputs": [],
   "source": [
    "import numpy as np\n",
    "import pandas as pd\n",
    "import matplotlib.pyplot as plt\n",
    "\n",
    "import re\n",
    "from string import punctuation\n",
    "\n",
    "import tensorflow as tf\n",
    "keras = tf.keras\n",
    "\n",
    "from tensorflow.keras.preprocessing.text import Tokenizer\n",
    "from tensorflow.keras.preprocessing.sequence import pad_sequences"
   ]
  },
  {
   "cell_type": "code",
   "execution_count": 2,
   "metadata": {},
   "outputs": [],
   "source": [
    "from plot import plots"
   ]
  },
  {
   "cell_type": "code",
   "execution_count": 3,
   "metadata": {},
   "outputs": [
    {
     "data": {
      "text/html": [
       "<div>\n",
       "<style scoped>\n",
       "    .dataframe tbody tr th:only-of-type {\n",
       "        vertical-align: middle;\n",
       "    }\n",
       "\n",
       "    .dataframe tbody tr th {\n",
       "        vertical-align: top;\n",
       "    }\n",
       "\n",
       "    .dataframe thead th {\n",
       "        text-align: right;\n",
       "    }\n",
       "</style>\n",
       "<table border=\"1\" class=\"dataframe\">\n",
       "  <thead>\n",
       "    <tr style=\"text-align: right;\">\n",
       "      <th></th>\n",
       "      <th>ItemID</th>\n",
       "      <th>Sentiment</th>\n",
       "      <th>SentimentText</th>\n",
       "    </tr>\n",
       "  </thead>\n",
       "  <tbody>\n",
       "    <tr>\n",
       "      <th>0</th>\n",
       "      <td>1</td>\n",
       "      <td>0</td>\n",
       "      <td>is so sad for my APL frie...</td>\n",
       "    </tr>\n",
       "    <tr>\n",
       "      <th>1</th>\n",
       "      <td>2</td>\n",
       "      <td>0</td>\n",
       "      <td>I missed the New Moon trail...</td>\n",
       "    </tr>\n",
       "    <tr>\n",
       "      <th>2</th>\n",
       "      <td>3</td>\n",
       "      <td>1</td>\n",
       "      <td>omg its already 7:30 :O</td>\n",
       "    </tr>\n",
       "    <tr>\n",
       "      <th>3</th>\n",
       "      <td>4</td>\n",
       "      <td>0</td>\n",
       "      <td>.. Omgaga. Im sooo  im gunna CRy. I'...</td>\n",
       "    </tr>\n",
       "    <tr>\n",
       "      <th>4</th>\n",
       "      <td>5</td>\n",
       "      <td>0</td>\n",
       "      <td>i think mi bf is cheating on me!!!   ...</td>\n",
       "    </tr>\n",
       "  </tbody>\n",
       "</table>\n",
       "</div>"
      ],
      "text/plain": [
       "   ItemID  Sentiment                                      SentimentText\n",
       "0       1          0                       is so sad for my APL frie...\n",
       "1       2          0                     I missed the New Moon trail...\n",
       "2       3          1                            omg its already 7:30 :O\n",
       "3       4          0            .. Omgaga. Im sooo  im gunna CRy. I'...\n",
       "4       5          0           i think mi bf is cheating on me!!!   ..."
      ]
     },
     "execution_count": 3,
     "metadata": {},
     "output_type": "execute_result"
    }
   ],
   "source": [
    "df = pd.read_csv(\"train.csv\", encoding=\"latin\")\n",
    "df.head()"
   ]
  },
  {
   "cell_type": "code",
   "execution_count": 4,
   "metadata": {},
   "outputs": [],
   "source": [
    "def clean_data(tweet):\n",
    "    tweet = tweet.lower()\n",
    "    \n",
    "    hashtag_pat = r\"#[a-z0-9_\\-]+\"\n",
    "    tweet = re.sub(pattern=hashtag_pat, repl=\"\", string=tweet, flags=re.I)\n",
    "    \n",
    "    mention_pat = r\"@[a-z0-9_\\-]+\"\n",
    "    tweet = re.sub(pattern=mention_pat, repl=\"\", string=tweet, flags=re.I)\n",
    "    \n",
    "    link_pat = r\"http://[a-z0-9\\-_\\.]+ | https://[a-z0-9_\\-\\.]+ | www.[a-z0-9]+\"\n",
    "    tweet = re.sub(pattern=link_pat, repl=\"\", string=tweet, flags=re.I)\n",
    "    \n",
    "    short_link_pat = r\"bit.ly[a-z0-9\\.]+\"\n",
    "    tweet = re.sub(pattern=short_link_pat, repl=\"\", string=tweet, flags=re.I)\n",
    "    \n",
    "    number_pat = r=\"\\d+\"\n",
    "    tweet = re.sub(pattern=number_pat, repl=\"\", string=tweet, flags=re.I)\n",
    "    \n",
    "    tweet = \" \".join(word.strip(punctuation) for word in tweet.split())\n",
    "    return tweet"
   ]
  },
  {
   "cell_type": "code",
   "execution_count": 5,
   "metadata": {},
   "outputs": [],
   "source": [
    "X = np.array(df.SentimentText.map(lambda x: clean_data(x)))\n",
    "y = np.array(df.Sentiment)"
   ]
  },
  {
   "cell_type": "code",
   "execution_count": 6,
   "metadata": {},
   "outputs": [],
   "source": [
    "from sklearn.model_selection import train_test_split\n",
    "\n",
    "X_train, X_test, y_train, y_test = train_test_split(X,y, train_size=0.8, random_state=0)"
   ]
  },
  {
   "cell_type": "code",
   "execution_count": 7,
   "metadata": {},
   "outputs": [],
   "source": [
    "vocab_size = 1000\n",
    "oov_token = \"<OOV>\"\n",
    "max_len = 100\n",
    "padding = \"post\"\n",
    "trunc = \"post\"\n",
    "embedding = 16"
   ]
  },
  {
   "cell_type": "code",
   "execution_count": 8,
   "metadata": {},
   "outputs": [],
   "source": [
    "tokenizer = Tokenizer(num_words=vocab_size, oov_token=oov_token)"
   ]
  },
  {
   "cell_type": "code",
   "execution_count": 9,
   "metadata": {},
   "outputs": [],
   "source": [
    "tokenizer.fit_on_texts(X_train)\n",
    "X_train_seq = tokenizer.texts_to_sequences(X_train)\n",
    "X_train_pad = pad_sequences(X_train_seq, maxlen=max_len, padding=padding, truncating=trunc)\n",
    "\n",
    "X_test_seq = tokenizer.texts_to_sequences(X_test)\n",
    "X_test_pad = pad_sequences(X_test_seq)\n",
    "\n",
    "X_train = np.array(X_train_pad)\n",
    "X_test = np.array(X_test_pad)"
   ]
  },
  {
   "cell_type": "code",
   "execution_count": 10,
   "metadata": {},
   "outputs": [
    {
     "name": "stdout",
     "output_type": "stream",
     "text": [
      "(79991, 100) (79991,) (19998, 117) (19998,)\n"
     ]
    }
   ],
   "source": [
    "print(X_train.shape, y_train.shape, X_test.shape, y_test.shape)"
   ]
  },
  {
   "cell_type": "markdown",
   "metadata": {},
   "source": [
    "## Embedded model with Global Average Pooling"
   ]
  },
  {
   "cell_type": "code",
   "execution_count": 11,
   "metadata": {
    "scrolled": true
   },
   "outputs": [
    {
     "name": "stdout",
     "output_type": "stream",
     "text": [
      "Epoch 1/30\n",
      "2479/2500 [============================>.] - ETA: 0s - loss: 0.6186 - accuracy: 0.6479WARNING:tensorflow:Model was constructed with shape (None, 100) for input Tensor(\"embedding_input:0\", shape=(None, 100), dtype=float32), but it was called on an input with incompatible shape (None, 117).\n",
      "2500/2500 [==============================] - 6s 3ms/step - loss: 0.6178 - accuracy: 0.6488 - val_loss: 0.5477 - val_accuracy: 0.7325\n",
      "Epoch 2/30\n",
      "2500/2500 [==============================] - 7s 3ms/step - loss: 0.5251 - accuracy: 0.7436 - val_loss: 0.5281 - val_accuracy: 0.7380\n",
      "Epoch 3/30\n",
      "2500/2500 [==============================] - 7s 3ms/step - loss: 0.5125 - accuracy: 0.7528 - val_loss: 0.5219 - val_accuracy: 0.7520\n",
      "Epoch 4/30\n",
      "2500/2500 [==============================] - 7s 3ms/step - loss: 0.5084 - accuracy: 0.7544 - val_loss: 0.5181 - val_accuracy: 0.7512\n",
      "Epoch 5/30\n",
      "2500/2500 [==============================] - 6s 3ms/step - loss: 0.5065 - accuracy: 0.7547 - val_loss: 0.5175 - val_accuracy: 0.7507\n",
      "Epoch 6/30\n",
      "2500/2500 [==============================] - 6s 3ms/step - loss: 0.5062 - accuracy: 0.7543 - val_loss: 0.5213 - val_accuracy: 0.7418\n",
      "Epoch 7/30\n",
      "2500/2500 [==============================] - 6s 3ms/step - loss: 0.5057 - accuracy: 0.7550 - val_loss: 0.5316 - val_accuracy: 0.7416\n",
      "Epoch 8/30\n",
      "2500/2500 [==============================] - 7s 3ms/step - loss: 0.5051 - accuracy: 0.7565 - val_loss: 0.5171 - val_accuracy: 0.7513\n",
      "Epoch 9/30\n",
      "2500/2500 [==============================] - 7s 3ms/step - loss: 0.5048 - accuracy: 0.7566 - val_loss: 0.5185 - val_accuracy: 0.7459\n",
      "Epoch 10/30\n",
      "2500/2500 [==============================] - 6s 2ms/step - loss: 0.5050 - accuracy: 0.7557 - val_loss: 0.5217 - val_accuracy: 0.7405\n",
      "Epoch 11/30\n",
      "2500/2500 [==============================] - 6s 2ms/step - loss: 0.5053 - accuracy: 0.7562 - val_loss: 0.5182 - val_accuracy: 0.7540\n",
      "Epoch 12/30\n",
      "2500/2500 [==============================] - 6s 2ms/step - loss: 0.5043 - accuracy: 0.7565 - val_loss: 0.5177 - val_accuracy: 0.7549\n",
      "Epoch 13/30\n",
      "2500/2500 [==============================] - 6s 2ms/step - loss: 0.5048 - accuracy: 0.7556 - val_loss: 0.5174 - val_accuracy: 0.7544\n",
      "Epoch 14/30\n",
      "2500/2500 [==============================] - 6s 2ms/step - loss: 0.5048 - accuracy: 0.7563 - val_loss: 0.5183 - val_accuracy: 0.7472\n",
      "Epoch 15/30\n",
      "2500/2500 [==============================] - 6s 2ms/step - loss: 0.5043 - accuracy: 0.7570 - val_loss: 0.5477 - val_accuracy: 0.7130\n",
      "Epoch 16/30\n",
      "2500/2500 [==============================] - 6s 2ms/step - loss: 0.5042 - accuracy: 0.7551 - val_loss: 0.5200 - val_accuracy: 0.7539\n",
      "Epoch 17/30\n",
      "2500/2500 [==============================] - 6s 2ms/step - loss: 0.5037 - accuracy: 0.7571 - val_loss: 0.5212 - val_accuracy: 0.7401\n",
      "Epoch 18/30\n",
      "2500/2500 [==============================] - 6s 2ms/step - loss: 0.5033 - accuracy: 0.7569 - val_loss: 0.5162 - val_accuracy: 0.7513\n",
      "Epoch 19/30\n",
      "2500/2500 [==============================] - 8s 3ms/step - loss: 0.5020 - accuracy: 0.7573 - val_loss: 0.5144 - val_accuracy: 0.7519\n",
      "Epoch 20/30\n",
      "2500/2500 [==============================] - 6s 2ms/step - loss: 0.4976 - accuracy: 0.7579 - val_loss: 0.5084 - val_accuracy: 0.7553\n",
      "Epoch 21/30\n",
      "2500/2500 [==============================] - 5s 2ms/step - loss: 0.4937 - accuracy: 0.7594 - val_loss: 0.5073 - val_accuracy: 0.7519\n",
      "Epoch 22/30\n",
      "2500/2500 [==============================] - 5s 2ms/step - loss: 0.4917 - accuracy: 0.7592 - val_loss: 0.5048 - val_accuracy: 0.7539\n",
      "Epoch 23/30\n",
      "2500/2500 [==============================] - 5s 2ms/step - loss: 0.4900 - accuracy: 0.7593 - val_loss: 0.5050 - val_accuracy: 0.7519\n",
      "Epoch 24/30\n",
      "2500/2500 [==============================] - 5s 2ms/step - loss: 0.4883 - accuracy: 0.7604 - val_loss: 0.5046 - val_accuracy: 0.7527\n",
      "Epoch 25/30\n",
      "2500/2500 [==============================] - 5s 2ms/step - loss: 0.4869 - accuracy: 0.7599 - val_loss: 0.5026 - val_accuracy: 0.7515\n",
      "Epoch 26/30\n",
      "2500/2500 [==============================] - 5s 2ms/step - loss: 0.4862 - accuracy: 0.7605 - val_loss: 0.5015 - val_accuracy: 0.7534\n",
      "Epoch 27/30\n",
      "2500/2500 [==============================] - 5s 2ms/step - loss: 0.4848 - accuracy: 0.7603 - val_loss: 0.5031 - val_accuracy: 0.7533\n",
      "Epoch 28/30\n",
      "2500/2500 [==============================] - 5s 2ms/step - loss: 0.4833 - accuracy: 0.7610 - val_loss: 0.5019 - val_accuracy: 0.7535\n",
      "Epoch 29/30\n",
      "2500/2500 [==============================] - 5s 2ms/step - loss: 0.4826 - accuracy: 0.7604 - val_loss: 0.5079 - val_accuracy: 0.7452\n",
      "Epoch 30/30\n",
      "2500/2500 [==============================] - 5s 2ms/step - loss: 0.4817 - accuracy: 0.7620 - val_loss: 0.5062 - val_accuracy: 0.7497\n"
     ]
    },
    {
     "data": {
      "text/plain": [
       "<tensorflow.python.keras.callbacks.History at 0x7f38582a9f50>"
      ]
     },
     "execution_count": 11,
     "metadata": {},
     "output_type": "execute_result"
    }
   ],
   "source": [
    "#model\n",
    "\n",
    "keras.backend.clear_session()\n",
    "\n",
    "model_embed_GAP = keras.Sequential([\n",
    "    keras.layers.Embedding(vocab_size, embedding, input_shape=[max_len]),\n",
    "    keras.layers.GlobalAveragePooling1D(),\n",
    "    keras.layers.Dense(units=6, activation=\"relu\", kernel_initializer=\"he_uniform\"),\n",
    "    keras.layers.Dense(units=1, activation=\"sigmoid\")\n",
    "])\n",
    "\n",
    "model_embed_GAP.compile(optimizer=\"adam\", loss=keras.losses.binary_crossentropy, metrics=[\"accuracy\"])\n",
    "\n",
    "model_embed_GAP.fit(X_train, y_train, epochs=30, validation_data=(X_test, y_test))"
   ]
  },
  {
   "cell_type": "code",
   "execution_count": 12,
   "metadata": {},
   "outputs": [
    {
     "data": {
      "image/png": "[encoded data removed]",
      "text/plain": [
       "<Figure size 432x288 with 1 Axes>"
      ]
     },
     "metadata": {
      "needs_background": "light"
     },
     "output_type": "display_data"
    },
    {
     "data": {
      "image/png": "[encoded data removed]",
      "text/plain": [
       "<Figure size 432x288 with 1 Axes>"
      ]
     },
     "metadata": {
      "needs_background": "light"
     },
     "output_type": "display_data"
    }
   ],
   "source": [
    "plots(model_embed_GAP)"
   ]
  },
  {
   "cell_type": "markdown",
   "metadata": {},
   "source": [
    "## CNN"
   ]
  },
  {
   "cell_type": "code",
   "execution_count": 13,
   "metadata": {
    "scrolled": true
   },
   "outputs": [
    {
     "name": "stdout",
     "output_type": "stream",
     "text": [
      "Epoch 1/30\n",
      "2492/2500 [============================>.] - ETA: 0s - loss: 0.5288 - accuracy: 0.7286WARNING:tensorflow:Model was constructed with shape (None, 100) for input Tensor(\"embedding_input:0\", shape=(None, 100), dtype=float32), but it was called on an input with incompatible shape (None, 117).\n",
      "2500/2500 [==============================] - 10s 4ms/step - loss: 0.5287 - accuracy: 0.7287 - val_loss: 0.5396 - val_accuracy: 0.7277\n",
      "Epoch 2/30\n",
      "2500/2500 [==============================] - 10s 4ms/step - loss: 0.4828 - accuracy: 0.7650 - val_loss: 0.5462 - val_accuracy: 0.7284\n",
      "Epoch 3/30\n",
      "2500/2500 [==============================] - 10s 4ms/step - loss: 0.4669 - accuracy: 0.7757 - val_loss: 0.5565 - val_accuracy: 0.7166\n",
      "Epoch 4/30\n",
      "2500/2500 [==============================] - 10s 4ms/step - loss: 0.4525 - accuracy: 0.7847 - val_loss: 0.5688 - val_accuracy: 0.7088\n",
      "Epoch 5/30\n",
      "2500/2500 [==============================] - 10s 4ms/step - loss: 0.4403 - accuracy: 0.7920 - val_loss: 0.5748 - val_accuracy: 0.7050\n",
      "Epoch 6/30\n",
      "2500/2500 [==============================] - 10s 4ms/step - loss: 0.4294 - accuracy: 0.8004 - val_loss: 0.6024 - val_accuracy: 0.6848\n",
      "Epoch 7/30\n",
      "2500/2500 [==============================] - 10s 4ms/step - loss: 0.4195 - accuracy: 0.8064 - val_loss: 0.6028 - val_accuracy: 0.6810\n",
      "Epoch 8/30\n",
      "2500/2500 [==============================] - 10s 4ms/step - loss: 0.4097 - accuracy: 0.8109 - val_loss: 0.6188 - val_accuracy: 0.6802\n",
      "Epoch 9/30\n",
      "2500/2500 [==============================] - 9s 4ms/step - loss: 0.4018 - accuracy: 0.8165 - val_loss: 0.6339 - val_accuracy: 0.6769\n",
      "Epoch 10/30\n",
      "2500/2500 [==============================] - 9s 4ms/step - loss: 0.3945 - accuracy: 0.8203 - val_loss: 0.6511 - val_accuracy: 0.6778\n",
      "Epoch 11/30\n",
      "2500/2500 [==============================] - 10s 4ms/step - loss: 0.3869 - accuracy: 0.8243 - val_loss: 0.6571 - val_accuracy: 0.6742\n",
      "Epoch 12/30\n",
      "2500/2500 [==============================] - 10s 4ms/step - loss: 0.3809 - accuracy: 0.8288 - val_loss: 0.6616 - val_accuracy: 0.6684\n",
      "Epoch 13/30\n",
      "2500/2500 [==============================] - 9s 4ms/step - loss: 0.3757 - accuracy: 0.8328 - val_loss: 0.6910 - val_accuracy: 0.6531\n",
      "Epoch 14/30\n",
      "2500/2500 [==============================] - 9s 4ms/step - loss: 0.3713 - accuracy: 0.8358 - val_loss: 0.7064 - val_accuracy: 0.6460\n",
      "Epoch 15/30\n",
      "2500/2500 [==============================] - 9s 4ms/step - loss: 0.3661 - accuracy: 0.8375 - val_loss: 0.7052 - val_accuracy: 0.6622\n",
      "Epoch 16/30\n",
      "2500/2500 [==============================] - 10s 4ms/step - loss: 0.3616 - accuracy: 0.8418 - val_loss: 0.7280 - val_accuracy: 0.6517\n",
      "Epoch 17/30\n",
      "2500/2500 [==============================] - 12s 5ms/step - loss: 0.3577 - accuracy: 0.8439 - val_loss: 0.7460 - val_accuracy: 0.6441\n",
      "Epoch 18/30\n",
      "2500/2500 [==============================] - 11s 4ms/step - loss: 0.3537 - accuracy: 0.8452 - val_loss: 0.7656 - val_accuracy: 0.6426\n",
      "Epoch 19/30\n",
      "2500/2500 [==============================] - 12s 5ms/step - loss: 0.3495 - accuracy: 0.8480 - val_loss: 0.7692 - val_accuracy: 0.6367\n",
      "Epoch 20/30\n",
      "2500/2500 [==============================] - 13s 5ms/step - loss: 0.3457 - accuracy: 0.8495 - val_loss: 0.7541 - val_accuracy: 0.6505\n",
      "Epoch 21/30\n",
      "2500/2500 [==============================] - 11s 4ms/step - loss: 0.3426 - accuracy: 0.8510 - val_loss: 0.7813 - val_accuracy: 0.6429\n",
      "Epoch 22/30\n",
      "2500/2500 [==============================] - 11s 4ms/step - loss: 0.3396 - accuracy: 0.8538 - val_loss: 0.7794 - val_accuracy: 0.6421\n",
      "Epoch 23/30\n",
      "2500/2500 [==============================] - 11s 5ms/step - loss: 0.3368 - accuracy: 0.8542 - val_loss: 0.8317 - val_accuracy: 0.6293\n",
      "Epoch 24/30\n",
      "2500/2500 [==============================] - 11s 4ms/step - loss: 0.3341 - accuracy: 0.8560 - val_loss: 0.8125 - val_accuracy: 0.6391\n",
      "Epoch 25/30\n",
      "2500/2500 [==============================] - 13s 5ms/step - loss: 0.3307 - accuracy: 0.8583 - val_loss: 0.8292 - val_accuracy: 0.6360\n",
      "Epoch 26/30\n",
      "2500/2500 [==============================] - 12s 5ms/step - loss: 0.3279 - accuracy: 0.8592 - val_loss: 0.8344 - val_accuracy: 0.6363\n",
      "Epoch 27/30\n",
      "2500/2500 [==============================] - 14s 5ms/step - loss: 0.3257 - accuracy: 0.8605 - val_loss: 0.8850 - val_accuracy: 0.6220\n",
      "Epoch 28/30\n",
      "2500/2500 [==============================] - 12s 5ms/step - loss: 0.3237 - accuracy: 0.8607 - val_loss: 0.8639 - val_accuracy: 0.6311\n",
      "Epoch 29/30\n",
      "2500/2500 [==============================] - 10s 4ms/step - loss: 0.3213 - accuracy: 0.8613 - val_loss: 0.8855 - val_accuracy: 0.6245\n",
      "Epoch 30/30\n",
      "2500/2500 [==============================] - 12s 5ms/step - loss: 0.3193 - accuracy: 0.8631 - val_loss: 0.8741 - val_accuracy: 0.6328\n"
     ]
    },
    {
     "data": {
      "text/plain": [
       "<tensorflow.python.keras.callbacks.History at 0x7f385005a810>"
      ]
     },
     "execution_count": 13,
     "metadata": {},
     "output_type": "execute_result"
    }
   ],
   "source": [
    "#CNN model\n",
    "\n",
    "keras.backend.clear_session()\n",
    "\n",
    "model_cnn = keras.Sequential([\n",
    "    keras.layers.Embedding(vocab_size, embedding, input_shape=[max_len]),\n",
    "    keras.layers.Conv1D(16, 5),\n",
    "    keras.layers.GlobalMaxPool1D(),\n",
    "    keras.layers.Dense(units=6, activation=\"relu\", kernel_initializer=\"he_uniform\"),\n",
    "    keras.layers.Dense(units=1, activation=\"sigmoid\")\n",
    "])\n",
    "\n",
    "model_cnn.compile(optimizer=\"adam\", loss=keras.losses.binary_crossentropy, metrics=[\"accuracy\"])\n",
    "\n",
    "model_cnn.fit(X_train, y_train, epochs=30, validation_data=(X_test, y_test))"
   ]
  },
  {
   "cell_type": "code",
   "execution_count": 14,
   "metadata": {},
   "outputs": [
    {
     "data": {
      "image/png": "[encoded data removed]",
      "text/plain": [
       "<Figure size 432x288 with 1 Axes>"
      ]
     },
     "metadata": {
      "needs_background": "light"
     },
     "output_type": "display_data"
    },
    {
     "data": {
      "image/png": "[encoded data removed]",
      "text/plain": [
       "<Figure size 432x288 with 1 Axes>"
      ]
     },
     "metadata": {
      "needs_background": "light"
     },
     "output_type": "display_data"
    }
   ],
   "source": [
    "plots(model_cnn)"
   ]
  },
  {
   "cell_type": "markdown",
   "metadata": {},
   "source": [
    "## Bidirectional LSTM"
   ]
  },
  {
   "cell_type": "code",
   "execution_count": 16,
   "metadata": {
    "scrolled": true
   },
   "outputs": [
    {
     "name": "stdout",
     "output_type": "stream",
     "text": [
      "Epoch 1/10\n",
      "2500/2500 [==============================] - ETA: 0s - loss: 0.5459 - accuracy: 0.7215WARNING:tensorflow:Model was constructed with shape (None, 100) for input Tensor(\"embedding_input:0\", shape=(None, 100), dtype=float32), but it was called on an input with incompatible shape (None, 117).\n",
      "2500/2500 [==============================] - 130s 52ms/step - loss: 0.5459 - accuracy: 0.7215 - val_loss: 0.7160 - val_accuracy: 0.5609\n",
      "Epoch 2/10\n",
      "2500/2500 [==============================] - 139s 56ms/step - loss: 0.5034 - accuracy: 0.7560 - val_loss: 0.7104 - val_accuracy: 0.5609\n",
      "Epoch 3/10\n",
      "2500/2500 [==============================] - 142s 57ms/step - loss: 0.4930 - accuracy: 0.7607 - val_loss: 0.7183 - val_accuracy: 0.5609\n",
      "Epoch 4/10\n",
      "2500/2500 [==============================] - 132s 53ms/step - loss: 0.4864 - accuracy: 0.7641 - val_loss: 0.7190 - val_accuracy: 0.5609\n",
      "Epoch 5/10\n",
      "2500/2500 [==============================] - 115s 46ms/step - loss: 0.4811 - accuracy: 0.7662 - val_loss: 0.7114 - val_accuracy: 0.5609\n",
      "Epoch 6/10\n",
      "2500/2500 [==============================] - 123s 49ms/step - loss: 0.4764 - accuracy: 0.7677 - val_loss: 0.7136 - val_accuracy: 0.5609\n",
      "Epoch 7/10\n",
      "2500/2500 [==============================] - 126s 50ms/step - loss: 0.4724 - accuracy: 0.7717 - val_loss: 0.7113 - val_accuracy: 0.5601\n",
      "Epoch 8/10\n",
      "2500/2500 [==============================] - 131s 52ms/step - loss: 0.4683 - accuracy: 0.7742 - val_loss: 0.7116 - val_accuracy: 0.5226\n",
      "Epoch 9/10\n",
      "2500/2500 [==============================] - 135s 54ms/step - loss: 0.4644 - accuracy: 0.7765 - val_loss: 0.7113 - val_accuracy: 0.5116\n",
      "Epoch 10/10\n",
      "2500/2500 [==============================] - 135s 54ms/step - loss: 0.4611 - accuracy: 0.7790 - val_loss: 0.7092 - val_accuracy: 0.5336\n"
     ]
    }
   ],
   "source": [
    "#lstm model\n",
    "\n",
    "keras.backend.clear_session()\n",
    "\n",
    "model_lstm = keras.Sequential([\n",
    "    keras.layers.Embedding(vocab_size, embedding, input_shape=[max_len]),\n",
    "    keras.layers.Bidirectional(keras.layers.LSTM(3)),\n",
    "    keras.layers.Dense(units=1, activation = \"sigmoid\")\n",
    "])\n",
    "\n",
    "model_lstm.compile(optimizer=\"adam\", loss=keras.losses.binary_crossentropy, metrics=[\"accuracy\"])\n",
    "\n",
    "history = model_lstm.fit(X_train, y_train, epochs=10, validation_data=(X_test, y_test))"
   ]
  },
  {
   "cell_type": "code",
   "execution_count": 17,
   "metadata": {},
   "outputs": [
    {
     "data": {
      "image/png": "[encoded data removed]",
      "text/plain": [
       "<Figure size 432x288 with 1 Axes>"
      ]
     },
     "metadata": {
      "needs_background": "light"
     },
     "output_type": "display_data"
    },
    {
     "data": {
      "image/png": "[encoded data removed]",
      "text/plain": [
       "<Figure size 432x288 with 1 Axes>"
      ]
     },
     "metadata": {
      "needs_background": "light"
     },
     "output_type": "display_data"
    }
   ],
   "source": [
    "plt.plot(history.history[\"loss\"], label=\"Loss\")\n",
    "plt.plot(history.history[\"val_loss\"], label=\"Validation Loss\")\n",
    "plt.legend()\n",
    "plt.show()\n",
    "\n",
    "plt.plot(history.history[\"accuracy\"], label=\"Accuracy\")\n",
    "plt.plot(history.history[\"val_accuracy\"], label=\"Validation Accuracy\")\n",
    "plt.legend()\n",
    "plt.show()\n"
   ]
  },
  {
   "cell_type": "code",
   "execution_count": 18,
   "metadata": {},
   "outputs": [],
   "source": [
    "#checking with fake reviews\n",
    "\n",
    "fake_reviews = [\"This is good\", \n",
    "                \"This is bad\",\n",
    "                \"Can do better\",\n",
    "                \"Not as nice as I thought\",\n",
    "                \"I am Batman\",\n",
    "                \"What do you think of ban?\"]"
   ]
  },
  {
   "cell_type": "code",
   "execution_count": 19,
   "metadata": {},
   "outputs": [],
   "source": [
    "def predict_review(model, review, padding=\"post\", trunc=\"post\", max_len=100):\n",
    "    review_seq = tokenizer.texts_to_sequences(review)\n",
    "    review_pad = pad_sequences(review_seq, maxlen=max_len, padding=padding, truncating=trunc)\n",
    "    prediction = model.predict(review_pad)\n",
    "    for i in range(len(review)):\n",
    "        print(review[i], prediction[i])"
   ]
  },
  {
   "cell_type": "code",
   "execution_count": 20,
   "metadata": {},
   "outputs": [],
   "source": [
    "model_name = [ \"Embed with GPA\", \"CNN\", \"LSTM\"]\n",
    "models = [model_embed_GAP, model_cnn, model_lstm]"
   ]
  },
  {
   "cell_type": "code",
   "execution_count": 21,
   "metadata": {},
   "outputs": [
    {
     "name": "stdout",
     "output_type": "stream",
     "text": [
      "Embed with GPA\n",
      "This is good [0.86544234]\n",
      "This is bad [0.17408018]\n",
      "Can do better [0.8987358]\n",
      "Not as nice as I thought [0.57718086]\n",
      "I am Batman [0.63040733]\n",
      "What do you think of ban? [0.8828463]\n",
      "None \n",
      "\n",
      "CNN\n",
      "This is good [0.9339545]\n",
      "This is bad [0.1927837]\n",
      "Can do better [0.9896846]\n",
      "Not as nice as I thought [0.16037175]\n",
      "I am Batman [0.54149264]\n",
      "What do you think of ban? [0.8905554]\n",
      "None \n",
      "\n",
      "LSTM\n",
      "This is good [0.8906823]\n",
      "This is bad [0.09768596]\n",
      "Can do better [0.84716624]\n",
      "Not as nice as I thought [0.53750813]\n",
      "I am Batman [0.5833115]\n",
      "What do you think of ban? [0.8354761]\n",
      "None \n",
      "\n"
     ]
    }
   ],
   "source": [
    "for m,n in zip(models, model_name):\n",
    "    print(n)\n",
    "    print(predict_review(m, fake_reviews), \"\\n\")"
   ]
  },
  {
   "cell_type": "markdown",
   "metadata": {},
   "source": [
    "## Creating TSV for embedding projector using cnn model"
   ]
  },
  {
   "cell_type": "code",
   "execution_count": 22,
   "metadata": {},
   "outputs": [],
   "source": [
    "word_dict = tokenizer.word_index\n",
    "\n",
    "reverse_dict = {j:i for i,j in word_dict.items()}\n",
    "\n",
    "weights = model_cnn.layers[0].get_weights()[0]\n",
    "\n",
    "out_meta = open(\"meta_cnn.tsv\", \"w\")\n",
    "out_vectors = open(\"vect_cnn.tsv\", \"w\")\n",
    "\n",
    "for i in range(1,len(weights)):\n",
    "    word = reverse_dict[i]\n",
    "    embedding = weights[i]\n",
    "    out_meta.write(word+\"\\n\")\n",
    "    out_vectors.write(\"\\t\".join([str(i) for i in embedding])+\"\\n\")\n",
    "out_meta.close()\n",
    "out_vectors.close()"
   ]
  },
  {
   "cell_type": "markdown",
   "metadata": {},
   "source": [
    "## Creating TSV for emdedding projector using LSTM"
   ]
  },
  {
   "cell_type": "code",
   "execution_count": 23,
   "metadata": {},
   "outputs": [],
   "source": [
    "weights = model_lstm.layers[0].get_weights()[0]\n",
    "\n",
    "out_meta = open(\"meta_lstm.tsv\", \"w\")\n",
    "out_vectors = open(\"vect_lstm.tsv\", \"w\")\n",
    "\n",
    "for i in range(1,len(weights)):\n",
    "    word = reverse_dict[i]\n",
    "    embedding = weights[i]\n",
    "    out_meta.write(word+\"\\n\")\n",
    "    out_vectors.write(\"\\t\".join([str(i) for i in embedding])+\"\\n\")\n",
    "out_meta.close()\n",
    "out_vectors.close()"
   ]
  },
  {
   "cell_type": "markdown",
   "metadata": {},
   "source": [
    "## Creating TSV for embedding projector using Embedded model"
   ]
  },
  {
   "cell_type": "code",
   "execution_count": 24,
   "metadata": {},
   "outputs": [],
   "source": [
    "weights = model_embed_GAP.layers[0].get_weights()[0]\n",
    "\n",
    "out_meta = open(\"meta_GAP.tsv\", \"w\")\n",
    "out_vectors = open(\"vect_GAP.tsv\", \"w\")\n",
    "\n",
    "for i in range(1,len(weights)):\n",
    "    word = reverse_dict[i]\n",
    "    embedding = weights[i]\n",
    "    out_meta.write(word+\"\\n\")\n",
    "    out_vectors.write(\"\\t\".join([str(i) for i in embedding])+\"\\n\")\n",
    "out_meta.close()\n",
    "out_vectors.close()"
   ]
  },
  {
   "cell_type": "code",
   "execution_count": null,
   "metadata": {},
   "outputs": [],
   "source": []
  }
 ],
 "metadata": {
  "kernelspec": {
   "display_name": "Python 3",
   "language": "python",
   "name": "python3"
  },
  "language_info": {
   "codemirror_mode": {
    "name": "ipython",
    "version": 3
   },
   "file_extension": ".py",
   "mimetype": "text/x-python",
   "name": "python",
   "nbconvert_exporter": "python",
   "pygments_lexer": "ipython3",
   "version": "3.7.7"
  }
 },
 "nbformat": 4,
 "nbformat_minor": 4
}
