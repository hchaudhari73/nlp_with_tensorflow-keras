{
 "cells": [
  {
   "cell_type": "code",
   "execution_count": 1,
   "metadata": {},
   "outputs": [],
   "source": [
    "import numpy as np\n",
    "import pandas as pd\n",
    "import matplotlib.pyplot as plt\n",
    "\n",
    "import re\n",
    "from string import punctuation\n",
    "\n",
    "import tensorflow as tf\n",
    "keras = tf.keras\n",
    "\n",
    "from tensorflow.keras.preprocessing.text import Tokenizer\n",
    "from tensorflow.keras.preprocessing.sequence import pad_sequences"
   ]
  },
  {
   "cell_type": "code",
   "execution_count": 2,
   "metadata": {},
   "outputs": [],
   "source": [
    "from plot import plots"
   ]
  },
  {
   "cell_type": "code",
   "execution_count": 3,
   "metadata": {},
   "outputs": [
    {
     "data": {
      "text/html": [
       "<div>\n",
       "<style scoped>\n",
       "    .dataframe tbody tr th:only-of-type {\n",
       "        vertical-align: middle;\n",
       "    }\n",
       "\n",
       "    .dataframe tbody tr th {\n",
       "        vertical-align: top;\n",
       "    }\n",
       "\n",
       "    .dataframe thead th {\n",
       "        text-align: right;\n",
       "    }\n",
       "</style>\n",
       "<table border=\"1\" class=\"dataframe\">\n",
       "  <thead>\n",
       "    <tr style=\"text-align: right;\">\n",
       "      <th></th>\n",
       "      <th>ItemID</th>\n",
       "      <th>Sentiment</th>\n",
       "      <th>SentimentText</th>\n",
       "    </tr>\n",
       "  </thead>\n",
       "  <tbody>\n",
       "    <tr>\n",
       "      <th>0</th>\n",
       "      <td>1</td>\n",
       "      <td>0</td>\n",
       "      <td>is so sad for my APL frie...</td>\n",
       "    </tr>\n",
       "    <tr>\n",
       "      <th>1</th>\n",
       "      <td>2</td>\n",
       "      <td>0</td>\n",
       "      <td>I missed the New Moon trail...</td>\n",
       "    </tr>\n",
       "    <tr>\n",
       "      <th>2</th>\n",
       "      <td>3</td>\n",
       "      <td>1</td>\n",
       "      <td>omg its already 7:30 :O</td>\n",
       "    </tr>\n",
       "    <tr>\n",
       "      <th>3</th>\n",
       "      <td>4</td>\n",
       "      <td>0</td>\n",
       "      <td>.. Omgaga. Im sooo  im gunna CRy. I'...</td>\n",
       "    </tr>\n",
       "    <tr>\n",
       "      <th>4</th>\n",
       "      <td>5</td>\n",
       "      <td>0</td>\n",
       "      <td>i think mi bf is cheating on me!!!   ...</td>\n",
       "    </tr>\n",
       "  </tbody>\n",
       "</table>\n",
       "</div>"
      ],
      "text/plain": [
       "   ItemID  Sentiment                                      SentimentText\n",
       "0       1          0                       is so sad for my APL frie...\n",
       "1       2          0                     I missed the New Moon trail...\n",
       "2       3          1                            omg its already 7:30 :O\n",
       "3       4          0            .. Omgaga. Im sooo  im gunna CRy. I'...\n",
       "4       5          0           i think mi bf is cheating on me!!!   ..."
      ]
     },
     "execution_count": 3,
     "metadata": {},
     "output_type": "execute_result"
    }
   ],
   "source": [
    "df = pd.read_csv(\"train.csv\", encoding=\"latin\")\n",
    "df.head()"
   ]
  },
  {
   "cell_type": "code",
   "execution_count": 4,
   "metadata": {},
   "outputs": [],
   "source": [
    "def clean_data(tweet):\n",
    "    tweet = tweet.lower()\n",
    "    \n",
    "    hashtag_pat = r\"#[a-z0-9_\\-]+\"\n",
    "    tweet = re.sub(pattern=hashtag_pat, repl=\"\", string=tweet, flags=re.I)\n",
    "    \n",
    "    mention_pat = r\"@[a-z0-9_\\-]+\"\n",
    "    tweet = re.sub(pattern=mention_pat, repl=\"\", string=tweet, flags=re.I)\n",
    "    \n",
    "    link_pat = r\"http://[a-z0-9\\-_\\.]+ | https://[a-z0-9_\\-\\.]+ | www.[a-z0-9]+\"\n",
    "    tweet = re.sub(pattern=link_pat, repl=\"\", string=tweet, flags=re.I)\n",
    "    \n",
    "    short_link_pat = r\"bit.ly[a-z0-9\\.]+\"\n",
    "    tweet = re.sub(pattern=short_link_pat, repl=\"\", string=tweet, flags=re.I)\n",
    "    \n",
    "    number_pat = r=\"\\d+\"\n",
    "    tweet = re.sub(pattern=number_pat, repl=\"\", string=tweet, flags=re.I)\n",
    "    \n",
    "    tweet = \" \".join(word.strip(punctuation) for word in tweet.split())\n",
    "    return tweet"
   ]
  },
  {
   "cell_type": "code",
   "execution_count": 5,
   "metadata": {},
   "outputs": [],
   "source": [
    "X = np.array(df.SentimentText.map(lambda x: clean_data(x)))\n",
    "y = np.array(df.Sentiment)"
   ]
  },
  {
   "cell_type": "code",
   "execution_count": 6,
   "metadata": {},
   "outputs": [],
   "source": [
    "from sklearn.model_selection import train_test_split\n",
    "\n",
    "X_train, X_test, y_train, y_test = train_test_split(X,y, train_size=0.8, random_state=0)"
   ]
  },
  {
   "cell_type": "code",
   "execution_count": 7,
   "metadata": {},
   "outputs": [],
   "source": [
    "vocab_size = 2000\n",
    "oov_token = \"<OOV>\"\n",
    "max_len = 100\n",
    "padding = \"post\"\n",
    "trunc = \"post\"\n",
    "embedding = 32"
   ]
  },
  {
   "cell_type": "code",
   "execution_count": 8,
   "metadata": {},
   "outputs": [],
   "source": [
    "tokenizer = Tokenizer(num_words=vocab_size, oov_token=oov_token)"
   ]
  },
  {
   "cell_type": "code",
   "execution_count": 9,
   "metadata": {},
   "outputs": [],
   "source": [
    "tokenizer.fit_on_texts(X_train)\n",
    "X_train_seq = tokenizer.texts_to_sequences(X_train)\n",
    "X_train_pad = np.array(pad_sequences(X_train_seq, maxlen=max_len, padding=padding, truncating=trunc))\n",
    "\n",
    "X_test_seq = tokenizer.texts_to_sequences(X_test)\n",
    "X_test_pad = np.array(pad_sequences(X_test_seq, maxlen=max_len, padding=padding, truncating=trunc))"
   ]
  },
  {
   "cell_type": "code",
   "execution_count": 10,
   "metadata": {},
   "outputs": [
    {
     "name": "stdout",
     "output_type": "stream",
     "text": [
      "(79991, 100) (79991,) (19998, 100) (19998,)\n"
     ]
    }
   ],
   "source": [
    "print(X_train_pad.shape, y_train.shape, X_test_pad.shape, y_test.shape)"
   ]
  },
  {
   "cell_type": "code",
   "execution_count": 11,
   "metadata": {
    "scrolled": true
   },
   "outputs": [
    {
     "name": "stdout",
     "output_type": "stream",
     "text": [
      "Epoch 1/30\n",
      "2500/2500 [==============================] - 8s 3ms/step - loss: 0.6113 - accuracy: 0.6526 - val_loss: 0.5233 - val_accuracy: 0.7469\n",
      "Epoch 2/30\n",
      "2500/2500 [==============================] - 8s 3ms/step - loss: 0.5048 - accuracy: 0.7581 - val_loss: 0.5035 - val_accuracy: 0.7592\n",
      "Epoch 3/30\n",
      "2500/2500 [==============================] - 8s 3ms/step - loss: 0.4898 - accuracy: 0.7674 - val_loss: 0.5060 - val_accuracy: 0.7527\n",
      "Epoch 4/30\n",
      "2500/2500 [==============================] - 8s 3ms/step - loss: 0.4837 - accuracy: 0.7706 - val_loss: 0.4975 - val_accuracy: 0.7636\n",
      "Epoch 5/30\n",
      "2500/2500 [==============================] - 8s 3ms/step - loss: 0.4796 - accuracy: 0.7735 - val_loss: 0.4960 - val_accuracy: 0.7622\n",
      "Epoch 6/30\n",
      "2500/2500 [==============================] - 8s 3ms/step - loss: 0.4754 - accuracy: 0.7750 - val_loss: 0.5061 - val_accuracy: 0.7526\n",
      "Epoch 7/30\n",
      "2500/2500 [==============================] - 9s 4ms/step - loss: 0.4718 - accuracy: 0.7763 - val_loss: 0.4915 - val_accuracy: 0.7635\n",
      "Epoch 8/30\n",
      "2500/2500 [==============================] - 8s 3ms/step - loss: 0.4681 - accuracy: 0.7759 - val_loss: 0.4915 - val_accuracy: 0.7603\n",
      "Epoch 9/30\n",
      "2500/2500 [==============================] - 8s 3ms/step - loss: 0.4653 - accuracy: 0.7770 - val_loss: 0.4897 - val_accuracy: 0.7618\n",
      "Epoch 10/30\n",
      "2500/2500 [==============================] - 8s 3ms/step - loss: 0.4631 - accuracy: 0.7776 - val_loss: 0.4897 - val_accuracy: 0.7593\n",
      "Epoch 11/30\n",
      "2500/2500 [==============================] - 8s 3ms/step - loss: 0.4608 - accuracy: 0.7783 - val_loss: 0.4905 - val_accuracy: 0.7608\n",
      "Epoch 12/30\n",
      "2500/2500 [==============================] - 8s 3ms/step - loss: 0.4584 - accuracy: 0.7802 - val_loss: 0.4901 - val_accuracy: 0.7611\n",
      "Epoch 13/30\n",
      "2500/2500 [==============================] - 8s 3ms/step - loss: 0.4574 - accuracy: 0.7809 - val_loss: 0.4904 - val_accuracy: 0.7614\n",
      "Epoch 14/30\n",
      "2500/2500 [==============================] - 8s 3ms/step - loss: 0.4557 - accuracy: 0.7820 - val_loss: 0.4969 - val_accuracy: 0.7594\n",
      "Epoch 15/30\n",
      "2500/2500 [==============================] - 8s 3ms/step - loss: 0.4535 - accuracy: 0.7831 - val_loss: 0.4932 - val_accuracy: 0.7616\n",
      "Epoch 16/30\n",
      "2500/2500 [==============================] - 8s 3ms/step - loss: 0.4520 - accuracy: 0.7842 - val_loss: 0.4935 - val_accuracy: 0.7605\n",
      "Epoch 17/30\n",
      "2500/2500 [==============================] - 8s 3ms/step - loss: 0.4512 - accuracy: 0.7840 - val_loss: 0.4963 - val_accuracy: 0.7571\n",
      "Epoch 18/30\n",
      "2500/2500 [==============================] - 8s 3ms/step - loss: 0.4502 - accuracy: 0.7852 - val_loss: 0.4957 - val_accuracy: 0.7582\n",
      "Epoch 19/30\n",
      "2500/2500 [==============================] - 10s 4ms/step - loss: 0.4484 - accuracy: 0.7863 - val_loss: 0.5042 - val_accuracy: 0.7535\n",
      "Epoch 20/30\n",
      "2500/2500 [==============================] - 9s 4ms/step - loss: 0.4478 - accuracy: 0.7861 - val_loss: 0.5013 - val_accuracy: 0.7547\n",
      "Epoch 21/30\n",
      "2500/2500 [==============================] - 8s 3ms/step - loss: 0.4472 - accuracy: 0.7874 - val_loss: 0.5016 - val_accuracy: 0.7539\n",
      "Epoch 22/30\n",
      "2500/2500 [==============================] - 9s 3ms/step - loss: 0.4457 - accuracy: 0.7876 - val_loss: 0.5038 - val_accuracy: 0.7531\n",
      "Epoch 23/30\n",
      "2500/2500 [==============================] - 8s 3ms/step - loss: 0.4450 - accuracy: 0.7876 - val_loss: 0.5015 - val_accuracy: 0.7558\n",
      "Epoch 24/30\n",
      "2500/2500 [==============================] - 8s 3ms/step - loss: 0.4438 - accuracy: 0.7890 - val_loss: 0.5002 - val_accuracy: 0.7602\n",
      "Epoch 25/30\n",
      "2500/2500 [==============================] - 8s 3ms/step - loss: 0.4432 - accuracy: 0.7891 - val_loss: 0.4995 - val_accuracy: 0.7582\n",
      "Epoch 26/30\n",
      "2500/2500 [==============================] - 8s 3ms/step - loss: 0.4416 - accuracy: 0.7897 - val_loss: 0.5048 - val_accuracy: 0.7560\n",
      "Epoch 27/30\n",
      "2500/2500 [==============================] - 8s 3ms/step - loss: 0.4410 - accuracy: 0.7904 - val_loss: 0.5085 - val_accuracy: 0.7587\n",
      "Epoch 28/30\n",
      "2500/2500 [==============================] - 8s 3ms/step - loss: 0.4398 - accuracy: 0.7922 - val_loss: 0.5054 - val_accuracy: 0.7509\n",
      "Epoch 29/30\n",
      "2500/2500 [==============================] - 8s 3ms/step - loss: 0.4392 - accuracy: 0.7922 - val_loss: 0.5089 - val_accuracy: 0.7530\n",
      "Epoch 30/30\n",
      "2500/2500 [==============================] - 9s 4ms/step - loss: 0.4379 - accuracy: 0.7927 - val_loss: 0.5024 - val_accuracy: 0.7562\n"
     ]
    },
    {
     "data": {
      "text/plain": [
       "<tensorflow.python.keras.callbacks.History at 0x7f3a2d718550>"
      ]
     },
     "execution_count": 11,
     "metadata": {},
     "output_type": "execute_result"
    }
   ],
   "source": [
    "#model\n",
    "\n",
    "keras.backend.clear_session()\n",
    "\n",
    "model = keras.Sequential([\n",
    "    keras.layers.Embedding(vocab_size, embedding, input_shape=[max_len]),\n",
    "    keras.layers.GlobalAveragePooling1D(),\n",
    "    keras.layers.Dense(6, activation=\"relu\", kernel_initializer=\"he_uniform\"),\n",
    "    keras.layers.Dense(1,activation=\"sigmoid\")\n",
    "    \n",
    "])\n",
    "\n",
    "model.compile(optimizer=\"adam\", loss = keras.losses.binary_crossentropy, metrics=[\"accuracy\"])\n",
    "\n",
    "model.fit(X_train_pad, y_train, epochs=30, validation_data=(X_test_pad, y_test))"
   ]
  },
  {
   "cell_type": "code",
   "execution_count": 12,
   "metadata": {},
   "outputs": [
    {
     "data": {
      "image/png": "[encoded data removed]",
      "text/plain": [
       "<Figure size 432x288 with 1 Axes>"
      ]
     },
     "metadata": {
      "needs_background": "light"
     },
     "output_type": "display_data"
    },
    {
     "data": {
      "image/png": "[encoded data removed]",
      "text/plain": [
       "<Figure size 432x288 with 1 Axes>"
      ]
     },
     "metadata": {
      "needs_background": "light"
     },
     "output_type": "display_data"
    }
   ],
   "source": [
    "plots(model)"
   ]
  },
  {
   "cell_type": "code",
   "execution_count": 13,
   "metadata": {},
   "outputs": [],
   "source": [
    "#checking with fake reviews\n",
    "\n",
    "fake_reviews = [\"This is good\", \n",
    "                \"This is bad\",\n",
    "                \"Can do better\",\n",
    "                \"Not as nice as I thought\",\n",
    "                \"I am Batman\",\n",
    "                \"What do you think of ban?\"]"
   ]
  },
  {
   "cell_type": "code",
   "execution_count": 14,
   "metadata": {},
   "outputs": [],
   "source": [
    "def predict_review(model, review, padding=\"post\", trunc=\"post\", max_len=100):\n",
    "    review_seq = tokenizer.texts_to_sequences(review)\n",
    "    review_pad = pad_sequences(review_seq, maxlen=max_len, padding=padding, truncating=trunc)\n",
    "    prediction = model.predict(review_pad)\n",
    "    for i in range(len(review)):\n",
    "        print(review[i], prediction[i])"
   ]
  },
  {
   "cell_type": "code",
   "execution_count": 15,
   "metadata": {},
   "outputs": [
    {
     "name": "stdout",
     "output_type": "stream",
     "text": [
      "This is good [0.8705378]\n",
      "This is bad [0.1364142]\n",
      "Can do better [0.87442714]\n",
      "Not as nice as I thought [0.5259521]\n",
      "I am Batman [0.53745836]\n",
      "What do you think of ban? [0.8367961]\n"
     ]
    }
   ],
   "source": [
    "predict_review(model, fake_reviews, padding, trunc, max_len)"
   ]
  },
  {
   "cell_type": "code",
   "execution_count": null,
   "metadata": {},
   "outputs": [],
   "source": []
  }
 ],
 "metadata": {
  "kernelspec": {
   "display_name": "Python 3",
   "language": "python",
   "name": "python3"
  },
  "language_info": {
   "codemirror_mode": {
    "name": "ipython",
    "version": 3
   },
   "file_extension": ".py",
   "mimetype": "text/x-python",
   "name": "python",
   "nbconvert_exporter": "python",
   "pygments_lexer": "ipython3",
   "version": "3.7.7"
  }
 },
 "nbformat": 4,
 "nbformat_minor": 4
}
